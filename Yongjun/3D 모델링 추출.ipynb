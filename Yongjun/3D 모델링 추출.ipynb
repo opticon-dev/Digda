{
 "cells": [
  {
   "cell_type": "code",
   "execution_count": null,
   "id": "57faa166",
   "metadata": {},
   "outputs": [],
   "source": [
    "import os\n",
    "import replicate\n",
    "import requests\n",
    "\n",
    "# 환경 변수 설정\n",
    "client = replicate.Client(api_token=None)"
   ]
  },
  {
   "cell_type": "code",
   "execution_count": 2,
   "id": "9c15436c",
   "metadata": {},
   "outputs": [
    {
     "name": "stdout",
     "output_type": "stream",
     "text": [
      "=== Replicate API 결과 ===\n",
      "{'color_video': <replicate.helpers.FileOutput object at 0x000002690ABBC590>, 'combined_video': None, 'gaussian_ply': <replicate.helpers.FileOutput object at 0x000002690AB2D450>, 'model_file': <replicate.helpers.FileOutput object at 0x000002690AB2E210>, 'no_background_images': None, 'normal_video': None}\n",
      "\n",
      "=== 파일 다운로드 시작 ===\n",
      "color_video 다운로드 중...\n",
      "'color_video.mp4' 파일 다운로드가 완료되었습니다.\n",
      "파일 크기: 0.23 MB\n",
      "저장 위치: c:\\Users\\osinf\\Desktop\\Architon\\color_video.mp4\n",
      "--------------------------------------------------\n",
      "gaussian_ply 다운로드 중...\n",
      "'gaussian_ply.ply' 파일 다운로드가 완료되었습니다.\n",
      "파일 크기: 52.41 MB\n",
      "저장 위치: c:\\Users\\osinf\\Desktop\\Architon\\gaussian_ply.ply\n",
      "--------------------------------------------------\n",
      "model_file 다운로드 중...\n",
      "'model_file.glb' 파일 다운로드가 완료되었습니다.\n",
      "파일 크기: 6.70 MB\n",
      "저장 위치: c:\\Users\\osinf\\Desktop\\Architon\\model_file.glb\n",
      "--------------------------------------------------\n"
     ]
    }
   ],
   "source": [
    "image_url = \"https://3drenderfarms.net/wp-content/uploads/2024/04/AI-%EB%A0%8C%EB%8D%94%EB%A7%81%EC%9D%B4-%EA%B1%B4%EC%B6%95-%EB%94%94%EC%9E%90%EC%9D%B8%EC%97%90-%EC%96%B4%EB%96%BB%EA%B2%8C-%ED%98%81%EB%AA%85%EC%9D%84-%EC%9D%BC%EC%9C%BC%ED%82%A4%EA%B3%A0-%EC%9E%88%EB%82%98%EC%9A%94-2.jpg\"\n",
    "output = client.run(\n",
    "    \"firtoz/trellis:e8f6c45206993f297372f5436b90350817bd9b4a0d52d2a76df50c1c8afa2b3c\",\n",
    "    input={\n",
    "        \"seed\": 0,\n",
    "        \"images\": [image_url],\n",
    "        \"texture_size\": 2048,\n",
    "        \"mesh_simplify\": 0.9,\n",
    "        \"generate_color\": True,\n",
    "        \"generate_model\": True,\n",
    "        \"randomize_seed\": True,\n",
    "        \"generate_normal\": False,\n",
    "        \"save_gaussian_ply\": True,\n",
    "        \"ss_sampling_steps\": 38,\n",
    "        \"slat_sampling_steps\": 12,\n",
    "        \"return_no_background\": False,\n",
    "        \"ss_guidance_strength\": 7.5,\n",
    "        \"slat_guidance_strength\": 3\n",
    "    }\n",
    ")\n",
    "\n",
    "print(\"=== Replicate API 결과 ===\")\n",
    "print(output)\n",
    "print()\n",
    "\n",
    "def download_file(download_url, local_filename):\n",
    "    \"\"\"URL에서 파일을 다운로드합니다.\"\"\"\n",
    "    try:\n",
    "        with requests.get(download_url, stream=True) as r:\n",
    "            r.raise_for_status()\n",
    "            with open(local_filename, 'wb') as f:\n",
    "                for chunk in r.iter_content(chunk_size=8192):\n",
    "                    f.write(chunk)\n",
    "        print(f\"'{local_filename}' 파일 다운로드가 완료되었습니다.\")\n",
    "        return True\n",
    "    except Exception as e:\n",
    "        print(f\"다운로드 실패: {e}\")\n",
    "        return False\n",
    "\n",
    "print(\"=== 파일 다운로드 시작 ===\")\n",
    "# output의 각 항목에서 실제 URL 추출하여 다운로드\n",
    "for key, value in output.items():\n",
    "    if value is not None and hasattr(value, 'url'):\n",
    "        # FileOutput 객체에서 실제 URL 추출\n",
    "        file_url = value.url\n",
    "        filename = f\"{key}.{'mp4' if 'video' in key else 'ply' if 'ply' in key else 'glb'}\"\n",
    "        \n",
    "        print(f\"{key} 다운로드 중...\")\n",
    "        if download_file(file_url, filename):\n",
    "            file_size = os.path.getsize(filename)\n",
    "            print(f\"파일 크기: {file_size / (1024*1024):.2f} MB\")\n",
    "            print(f\"저장 위치: {os.path.abspath(filename)}\")\n",
    "        print(\"-\" * 50)"
   ]
  }
 ],
 "metadata": {
  "kernelspec": {
   "display_name": "base",
   "language": "python",
   "name": "python3"
  },
  "language_info": {
   "codemirror_mode": {
    "name": "ipython",
    "version": 3
   },
   "file_extension": ".py",
   "mimetype": "text/x-python",
   "name": "python",
   "nbconvert_exporter": "python",
   "pygments_lexer": "ipython3",
   "version": "3.13.5"
  }
 },
 "nbformat": 4,
 "nbformat_minor": 5
}
