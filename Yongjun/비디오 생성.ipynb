{
 "cells": [
  {
   "cell_type": "code",
   "execution_count": null,
   "id": "eff7246e",
   "metadata": {},
   "outputs": [],
   "source": [
    "import os\n",
    "import replicate\n",
    "import requests\n",
    "\n",
    "# 환경 변수 설정\n",
    "os.environ[\"REPLICATE_API_TOKEN\"] = None\n",
    "client = replicate.Client(api_token=os.environ[\"REPLICATE_API_TOKEN\"])"
   ]
  },
  {
   "cell_type": "code",
   "execution_count": null,
   "id": "9da8a73b",
   "metadata": {},
   "outputs": [
    {
     "name": "stdout",
     "output_type": "stream",
     "text": [
      "=== 비디오 생성 시작 ===\n",
      "=== 비디오 생성 완료 ===\n",
      "Output 타입: <class 'replicate.helpers.FileOutput'>\n",
      "Output 내용: https://replicate.delivery/xezq/iLc79fQlBz3YLSGZXyqxz2vQcl2QhXgsGcmel52CuOfZe3FVB/output.mp4\n",
      "비디오 URL: https://replicate.delivery/xezq/iLc79fQlBz3YLSGZXyqxz2vQcl2QhXgsGcmel52CuOfZe3FVB/output.mp4\n",
      "비디오 다운로드 중...\n",
      "비디오 다운로드 완료!\n",
      "파일명: generated_video.mp4\n",
      "파일 크기: 3.50 MB\n",
      "저장 위치: c:\\Users\\osinf\\Desktop\\Architon\\generated_video.mp4\n"
     ]
    }
   ],
   "source": [
    "print(\"=== 비디오 생성 시작 ===\")\n",
    "image_url = \"https://media.istockphoto.com/id/1990444472/ko/%EC%82%AC%EC%A7%84/%EC%8A%A4%EC%B9%B8%EB%94%94%EB%82%98%EB%B9%84%EC%95%84-%EC%8A%A4%ED%83%80%EC%9D%BC%EC%9D%98-%EC%95%84%EB%8A%91%ED%95%9C-%EA%B1%B0%EC%8B%A4-%EC%9D%B8%ED%85%8C%EB%A6%AC%EC%96%B4.jpg?s=1024x1024&w=is&k=20&c=AOqnIwOx-eJ2GmCAf0Ye4kwKX4XxCZP2eD1Wx54xpiE=\"\n",
    "prompt = \"시점이 앞으로 천천히 이동하다가 오른쪽으로 시점이 이동하며 뒤를 바라본다\"\n",
    "\n",
    "output = client.run(\n",
    "    \"wan-video/wan-2.2-i2v-a14b\",\n",
    "    input={\n",
    "        \"image\": image_url,\n",
    "        \"prompt\": prompt,\n",
    "        \"go_fast\": False,\n",
    "        \"num_frames\": 81,\n",
    "        \"resolution\": \"480p\",\n",
    "        \"sample_shift\": 5,\n",
    "        \"sample_steps\": 30,\n",
    "        \"frames_per_second\": 16\n",
    "    }\n",
    ")\n",
    "\n",
    "print(\"=== 비디오 생성 완료 ===\")\n",
    "print(f\"Output 타입: {type(output)}\")\n",
    "print(f\"Output 내용: {output}\")\n",
    "\n",
    "# FileOutput 객체인지 확인하고 처리\n",
    "if hasattr(output, 'url'):\n",
    "    # FileOutput 객체인 경우\n",
    "    video_url = output.url\n",
    "    print(f\"비디오 URL: {video_url}\")\n",
    "    \n",
    "    # 비디오 파일 다운로드\n",
    "    try:\n",
    "        print(\"비디오 다운로드 중...\")\n",
    "        with requests.get(video_url, stream=True) as r:\n",
    "            r.raise_for_status()\n",
    "            with open(\"generated_video.mp4\", \"wb\") as file:\n",
    "                for chunk in r.iter_content(chunk_size=8192):\n",
    "                    file.write(chunk)\n",
    "        \n",
    "        # 파일 크기 확인\n",
    "        file_size = os.path.getsize(\"generated_video.mp4\")\n",
    "        print(f\"비디오 다운로드 완료!\")\n",
    "        print(f\"파일명: generated_video.mp4\")\n",
    "        print(f\"파일 크기: {file_size / (1024*1024):.2f} MB\")\n",
    "        print(f\"저장 위치: {os.path.abspath('generated_video.mp4')}\")\n",
    "        \n",
    "    except Exception as e:\n",
    "        print(f\"다운로드 실패: {e}\")\n",
    "        \n",
    "elif isinstance(output, str):\n",
    "    # 직접 URL이 반환된 경우\n",
    "    print(f\"비디오 URL: {output}\")\n",
    "    \n",
    "else:\n",
    "    # 다른 형태의 출력인 경우\n",
    "    print(\"예상과 다른 출력 형태입니다.\")\n",
    "    print(\"output의 속성들:\")\n",
    "    print(dir(output))"
   ]
  }
 ],
 "metadata": {
  "kernelspec": {
   "display_name": "base",
   "language": "python",
   "name": "python3"
  },
  "language_info": {
   "codemirror_mode": {
    "name": "ipython",
    "version": 3
   },
   "file_extension": ".py",
   "mimetype": "text/x-python",
   "name": "python",
   "nbconvert_exporter": "python",
   "pygments_lexer": "ipython3",
   "version": "3.13.5"
  }
 },
 "nbformat": 4,
 "nbformat_minor": 5
}
